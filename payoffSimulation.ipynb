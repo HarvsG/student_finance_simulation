{
 "cells": [
  {
   "cell_type": "code",
   "execution_count": 1,
   "metadata": {},
   "outputs": [],
   "source": [
    "import os\n",
    "import pandas as pd\n",
    "import numpy as np\n",
    "from datetime import date, timedelta"
   ]
  },
  {
   "cell_type": "code",
   "execution_count": null,
   "metadata": {},
   "outputs": [],
   "source": [
    "def calcTaxPA(grossSalaryPA, student_finance = False):\n",
    "    '''calculates tax paid per year based on \n",
    "    UK tax bands'''\n",
    "    taxFreeAllowance = 12500\n",
    "    if grossSalaryPA <= taxFreeAllowance:\n",
    "        taxPA = 0\n",
    "    elif grossSalaryPA <= 50000:\n",
    "        taxPA = 0.2*(grossSalaryPA - 12500)\n",
    "        print(\"You pay: \", taxPA, \" in tax per annum\")\n",
    "    elif grossSalaryPA > 50000 and grossSalaryPA <= 150000:\n",
    "        taxPA = (0.4*(grossSalaryPA - 50000)) + (0.2*(50000 - 12500))\n",
    "        print(\"You pay: \", taxPA, \" in tax per annum\")\n",
    "    elif grossSalaryPA > 150000:\n",
    "        taxPA = (0.45*(grossSalaryPA - 150000)) + (0.4*(150000 - 50000)) + (0.2*(50000 - 12500))\n",
    "        print(\"You pay: \", taxPA, \" in tax per annum\")\n",
    "    taxPA\n",
    "    return taxPA\n",
    "\n",
    "\n",
    "def calcNICPA(grossSalaryPA):\n",
    "    '''calculates national insurance contribution per year'''\n",
    "    grossSalaryPW = grossSalaryPA/52\n",
    "    if grossSalaryPW >= 962:\n",
    "        NICPW = 0.02*(grossSalaryPW-962) + 0.12*(962-166)\n",
    "    elif grossSalaryPW > 166:\n",
    "        NICPW = 0.12*(grossSalaryPW - 166)\n",
    "    else:\n",
    "        NICPW = 0\n",
    "    return NICPW*52\n",
    "\n",
    "\n",
    "def calcStudentFinPA(grossSalaryPA):\n",
    "    '''calculates student finance per year'''\n",
    "    grossSalaryPM = grossSalaryPA/12\n",
    "    thresholdPM = 2143\n",
    "    if grossSalaryPM > thresholdPM:\n",
    "        StudentFinPM = 0.09*(grossSalaryPM-thresholdPM)\n",
    "    else:\n",
    "        StudentFinPM = 0\n",
    "    return StudentFinPM*12\n",
    "\n",
    "\n",
    "def calcNetSalary(grossSalaryPA):\n",
    "    '''calculates net salary after tax and all other deductions'''\n",
    "    netSalaryPA = grossSalaryPA - calcTaxPA(grossSalaryPA) - calcNICPA(grossSalaryPA) - calcStudentFinPA(grossSalaryPA)\n",
    "    return netSalaryPA\n",
    "\n",
    "\n",
    "def salaryIncrease(salary):\n",
    "    increaseStep = np.random.normal(7000, 2000)\n",
    "\n",
    "    return salary+increaseStep\n",
    "\n",
    "def findInterestRate(paymentDate):\n",
    "    year = paymentDate.year\n",
    "    sdate = historicInterest[str(year)][\"start\"]\n",
    "    edate = historicInterest[str(year)][\"end\"]\n",
    "    delta = edate - sdate\n",
    "\n",
    "    allDates = [sdate + timedelta(days=i) for i in range(delta.days+1)]\n",
    "\n",
    "    if paymentDate in allDates:\n",
    "#         print(\"yes\")\n",
    "        rate = historicInterest[str(year)][\"rate\"]\n",
    "#         print(rate)\n",
    "    else:\n",
    "        rate = historicInterest[str(year-1)][\"rate\"]\n",
    "#         print(\"next year\", rate)\n",
    "    return rate\n",
    "\n",
    "\n",
    "def populateInterestRate(myPayments):\n",
    "    myPayments[\"interestRate\"] = 0\n",
    "    myPayments[\"totalPayment\"] = 0\n",
    "    myPayments[\"cumulativeTotal\"] = 0\n",
    "    for i, row in myPayments.iterrows():\n",
    "    #     print(row)\n",
    "        rate = findInterestRate(myPayments.at[i, \"Payment Date\"].date())\n",
    "#         print(rate)\n",
    "        myPayments.loc[i,\"interestRate\"] = rate\n",
    "#         print(rate+1)\n",
    "        myPayments.loc[i, \"totalPayment\"] = myPayments.loc[i, \"Gross\"]*(rate+1)\n",
    "        myPayments.loc[i, \"cumulativeTotal\"] = myPayments.loc[i, \"Gross\"]*(rate+1)\n",
    "    return myPayments"
   ]
  },
  {
   "cell_type": "code",
   "execution_count": 2,
   "metadata": {},
   "outputs": [],
   "source": [
    "## build this dictionary from a table which is read in as a csv - potentially even scrape from the student finance website\n",
    "\n",
    "historicInterest = {\"2012\": {\"start\": date(2012, 9, 1), \"end\": date(2013, 8, 31), \"rate\": 0.066}, \n",
    "                    \"2013\": {\"start\": date(2013, 9, 1), \"end\": date(2014, 8, 31), \"rate\": 0.063}, \n",
    "                    \"2014\": {\"start\": date(2014, 9, 1), \"end\": date(2015, 8, 31), \"rate\": 0.055}, \n",
    "                    \"2015\": {\"start\": date(2015, 9, 1), \"end\": date(2016, 8, 31), \"rate\": 0.039}, \n",
    "                    \"2016\": {\"start\": date(2016, 9, 1), \"end\": date(2017, 8, 31), \"rate\": 0.046}, \n",
    "                    \"2017\": {\"start\": date(2017, 9, 1), \"end\": date(2018, 8, 31), \"rate\": 0.0618}, \n",
    "                    \"2018\": {\"start\": date(2018, 9, 1), \"end\": date(2019, 8, 31), \"rate\": 0.063}\n",
    "                   }\n",
    "\n",
    "\n",
    "# incomeTax = {12500: 0.0, 50000: 0.2, 150000: 0.4, 0.45}\n",
    "current_wd = os.getcwd()\n",
    "file_name = \"trimmed_data.csv\"\n",
    "\n",
    "def readPayments(file_name, date_header=\"Payment Date\"):\n",
    "    dataLoc = os.path.join(current_wd, \"data\", file_name)\n",
    "    paymentsData = pd.read_csv(dataLoc)\n",
    "    paymentsData[date_header] = pd.to_datetime(paymentsData[date_header])\n",
    "    \n",
    "    return paymentsData"
   ]
  },
  {
   "cell_type": "code",
   "execution_count": 3,
   "metadata": {},
   "outputs": [],
   "source": [
    "## Read in data\n",
    "\n",
    "myPayments = pd.read_csv(\"trimmed_data.csv\", sep=\",\")\n",
    "myPayments[\"Payment Date\"] = pd.to_datetime(myPayments[\"Payment Date\"])"
   ]
  },
  {
   "cell_type": "code",
   "execution_count": 67,
   "metadata": {},
   "outputs": [
    {
     "name": "stdout",
     "output_type": "stream",
     "text": [
      "You pay:  4500.0  in tax per annum\n"
     ]
    },
    {
     "data": {
      "text/plain": [
       "26500.28"
      ]
     },
     "execution_count": 67,
     "metadata": {},
     "output_type": "execute_result"
    }
   ],
   "source": [
    "myPayments = populateInterestRate(myPayments)\n",
    "graduationAmount = myPayments.sum()[\"totalPayment\"]*1.061\n",
    "graduationplusOne = graduationAmount*1.063\n",
    "\n"
   ]
  },
  {
   "cell_type": "markdown",
   "metadata": {},
   "source": [
    "# To-do\n",
    "* Function to calculate student finance owed - need this as separate so can calculate cumulative total over simulated years "
   ]
  }
 ],
 "metadata": {
  "kernelspec": {
   "display_name": "Python 3",
   "language": "python",
   "name": "python3"
  },
  "language_info": {
   "codemirror_mode": {
    "name": "ipython",
    "version": 3
   },
   "file_extension": ".py",
   "mimetype": "text/x-python",
   "name": "python",
   "nbconvert_exporter": "python",
   "pygments_lexer": "ipython3",
   "version": "3.7.6"
  }
 },
 "nbformat": 4,
 "nbformat_minor": 4
}
