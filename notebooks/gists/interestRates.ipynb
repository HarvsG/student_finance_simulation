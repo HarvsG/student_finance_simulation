{
 "cells": [
  {
   "cell_type": "code",
   "execution_count": null,
   "metadata": {},
   "outputs": [],
   "source": [
    "## Web scrape historic interest rates\n",
    "\n",
    "url = 'https://www.gov.uk/guidance/how-interest-is-calculated-plan-2'\n",
    "headers = {'User-Agent': 'Mozilla/5.0'}\n",
    "page = requests.get(url, headers=headers)\n",
    "soup = BeautifulSoup(page.content, 'html.parser')\n",
    "results = soup.find('table')\n",
    "table_rows = results.find_all('tr')\n",
    "\n",
    "# Store interest rates in dictionary of academic years\n",
    "historicInterest = {}\n",
    "for tr in table_rows:\n",
    "    td = tr.find_all('td')\n",
    "    row = [i.text for i in td]\n",
    "    if len(row) > 0:\n",
    "        row[0] = row[0].split('to')\n",
    "        row[0][0] = pd.Timestamp(row[0][0])\n",
    "        row[0][1] = pd.Timestamp(row[0][1])\n",
    "        year = str(row[0][0].year)\n",
    "        historicInterest.setdefault(year, 0)\n",
    "        historicInterest[year] = {}\n",
    "        historicInterest[year].setdefault(\"start\", 0)\n",
    "        historicInterest[year][\"start\"] = row[0][0].date()\n",
    "        historicInterest[year].setdefault(\"end\", 0)\n",
    "        historicInterest[year][\"end\"] = row[0][1].date()\n",
    "        historicInterest[year].setdefault(\"rate\", 0)\n",
    "        historicInterest[year][\"rate\"] = float(row[1][:-1])/100\n",
    "\n",
    "def findInterestRate(paymentDate):\n",
    "    '''\n",
    "    Finds interest rate for a date which falls in \n",
    "    a given academic year using a lookup dictionary.\n",
    "    '''\n",
    "    try:\n",
    "        year = paymentDate.year\n",
    "        sdate = historicInterest[str(year)][\"start\"]\n",
    "        edate = historicInterest[str(year)][\"end\"]\n",
    "        delta = edate - sdate\n",
    "    \n",
    "        allDates = [sdate + timedelta(days=i) for i in range(delta.days+1)] # create list of all dates in date range sdate to edate\n",
    "        \n",
    "        # Dates in the second semester are in the next calendar year but same academic year\n",
    "        # in this case, take the rate of the previous calendar year\n",
    "        if paymentDate in allDates:\n",
    "            rate = historicInterest[str(year)][\"rate\"]\n",
    "        else:\n",
    "            rate = historicInterest[str(year-1)][\"rate\"]\n",
    "    except KeyError: # error for dates in next calendar year after the end of the dictionary dates\n",
    "        rate = historicInterest[str(year-1)][\"rate\"]\n",
    "    return rate"
   ]
  }
 ],
 "metadata": {
  "kernelspec": {
   "display_name": "Python 3",
   "language": "python",
   "name": "python3"
  },
  "language_info": {
   "codemirror_mode": {
    "name": "ipython",
    "version": 3
   },
   "file_extension": ".py",
   "mimetype": "text/x-python",
   "name": "python",
   "nbconvert_exporter": "python",
   "pygments_lexer": "ipython3",
   "version": "3.7.6"
  }
 },
 "nbformat": 4,
 "nbformat_minor": 4
}
