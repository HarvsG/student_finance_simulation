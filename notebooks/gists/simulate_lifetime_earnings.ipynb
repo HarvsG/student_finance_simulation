{
 "cells": [
  {
   "cell_type": "code",
   "execution_count": null,
   "metadata": {},
   "outputs": [],
   "source": [
    "def simulate_lifetime_earnings(grossSalaryPA, \n",
    "                               N, \n",
    "                               principal, \n",
    "                               employment_start, \n",
    "                               method=\"monte carlo\", \n",
    "                               increases=None):\n",
    "    '''\n",
    "    Simulates payment of student debt across career based \n",
    "    on monthly tax payments according to estimated salary \n",
    "    and simultaneous compounding interest of loan\n",
    "    '''\n",
    "    \n",
    "    salary = [] # store salary trajectory for plotting\n",
    "    payments_towards = 0 # cumulative total of payments made towards loan across career\n",
    "    salary.append(grossSalaryPA)\n",
    "    \n",
    "    ## Simulation start and end points\n",
    "    today = pd.Timestamp(employment_start)\n",
    "    start = today\n",
    "    edate = today + timedelta(days=N*365) # N years of payments\n",
    "    delta = timedelta(days=1)\n",
    "    offset = BMonthEnd() # date each month that tax is paid\n",
    "    \n",
    "    cumulativeTotal = principal\n",
    "    cumulativeList = [] # store the value of the loan at each timestep\n",
    "    cumulativeList.append(cumulativeTotal)\n",
    "    \n",
    "    ## Simulate through N years of payments\n",
    "    ## interest compounds each day\n",
    "    ## payment made on last working day of the month\n",
    "    while today <= edate:\n",
    "        if method == \"monte carlo\" and increases is not None:\n",
    "            if ((today - start).days/365)%5 == 0 and (today - start).days > 0:\n",
    "                grossSalaryPA *= increases[(today - start).days/365/5]\n",
    "                \n",
    "        elif method == \"monte carlo\" and increases is None:\n",
    "            print(\"Please supply monte carlo simulated salary increases\")\n",
    "            \n",
    "        if method == \"median\":\n",
    "            if (today - start).days%365 == 0 and (today - start).days/365 in male_HE.index:\n",
    "                grossSalaryPA = male_HE.loc[(today - start).days/365]['Earning']\n",
    "\n",
    "        cumulativeTotal *= (1+(0.05/365)) # apply interest on previous payments before new payment\n",
    "        \n",
    "        if today == offset.rollforward(today) and today.month == offset.rollforward(today).month: # if today in sim is last working day\n",
    "            cumulativeTotal -= calc_student_finance_PM(grossSalaryPA) # payment made to student finance based on gross salary\n",
    "            payments_towards += calc_student_finance_PM(grossSalaryPA) # this payment is added to cumulative sum\n",
    "            cumulativeList.append(cumulativeTotal)\n",
    "            salary.append(grossSalaryPA)\n",
    "            \n",
    "        today += delta\n",
    "\n",
    "    return cumulativeList, salary, payments_towards"
   ]
  }
 ],
 "metadata": {
  "kernelspec": {
   "display_name": "Python 3",
   "language": "python",
   "name": "python3"
  },
  "language_info": {
   "codemirror_mode": {
    "name": "ipython",
    "version": 3
   },
   "file_extension": ".py",
   "mimetype": "text/x-python",
   "name": "python",
   "nbconvert_exporter": "python",
   "pygments_lexer": "ipython3",
   "version": "3.7.6"
  }
 },
 "nbformat": 4,
 "nbformat_minor": 4
}
