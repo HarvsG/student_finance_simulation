{
 "cells": [
  {
   "cell_type": "code",
   "execution_count": 1,
   "metadata": {},
   "outputs": [],
   "source": [
    "def calc_student_finance_PM(grossSalaryPA):\n",
    "    '''\n",
    "    Calculates student finance payments per month deducted\n",
    "    from gross salary based on thresholds published by\n",
    "    Student Finance England.\n",
    "    '''\n",
    "    grossSalaryPM = grossSalaryPA/12\n",
    "    thresholdPM = 2143\n",
    "    if grossSalaryPM > thresholdPM:\n",
    "        StudentFinPM = 0.09*(grossSalaryPM-thresholdPM)\n",
    "    else:\n",
    "        StudentFinPM = 0\n",
    "    return StudentFinPM"
   ]
  }
 ],
 "metadata": {
  "kernelspec": {
   "display_name": "Python 3",
   "language": "python",
   "name": "python3"
  },
  "language_info": {
   "codemirror_mode": {
    "name": "ipython",
    "version": 3
   },
   "file_extension": ".py",
   "mimetype": "text/x-python",
   "name": "python",
   "nbconvert_exporter": "python",
   "pygments_lexer": "ipython3",
   "version": "3.7.6"
  }
 },
 "nbformat": 4,
 "nbformat_minor": 4
}
