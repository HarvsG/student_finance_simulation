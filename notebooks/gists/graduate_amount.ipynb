{
 "cells": [
  {
   "cell_type": "code",
   "execution_count": 1,
   "metadata": {},
   "outputs": [],
   "source": [
    "def graduate_amount(simEnd, employmentStart, myPayments=None): # simEnd argument ends simulation either on the last payment in data, at the end of graduation academic year or at commencement of employment\n",
    "    '''\n",
    "    calculate total student debt owed at employment, \n",
    "    end of graduation year or at final instalment manually (using simEnd)\n",
    "    Alternatively can take manually input total\n",
    "    '''\n",
    "    \n",
    "    cumulativeTotal = 0\n",
    "    interestRate = 0\n",
    "    if myPayments is not None:\n",
    "        startDate = myPayments.index.min()\n",
    "        if simEnd == \"yearEnd\":\n",
    "            graduationYear = myPayments.index.max().year # assumes that final payment occurs during graduation year\n",
    "            yearEnd = str(graduationYear)+\"-08-31\"\n",
    "            endDate = pd.Timestamp(yearEnd) # simulation ends at end of academic year of final payment\n",
    "        elif simEnd == \"employment\":\n",
    "            endDate = pd.Timestamp(employmentStart)\n",
    "        else:\n",
    "            endDate = myPayments.index.max() # simulation ends at final payment\n",
    "\n",
    "        delta = timedelta(days=1)\n",
    "        \n",
    "        ## Simulate through dates in date period, \n",
    "        ## compounding interest each day and adding installments\n",
    "        \n",
    "        while startDate <= endDate: # simulate interest compounding up to and including last day\n",
    "            interestRate = find_interest_rate(startDate)\n",
    "            cumulativeTotal *= (1+(interestRate/365)) # apply interest on previous payments before new payment\n",
    "            if startDate in myPayments.index: # check if there was a loan instalment on this day\n",
    "                cumulativeTotal += myPayments.loc[startDate][\"Gross\"]\n",
    "            startDate += delta                \n",
    "            \n",
    "    else:\n",
    "        print(\"Please enter your net total of Student Debt at graduation\")\n",
    "        cumulativeTotal = input()\n",
    "    return cumulativeTotal"
   ]
  }
 ],
 "metadata": {
  "kernelspec": {
   "display_name": "Python 3",
   "language": "python",
   "name": "python3"
  },
  "language_info": {
   "codemirror_mode": {
    "name": "ipython",
    "version": 3
   },
   "file_extension": ".py",
   "mimetype": "text/x-python",
   "name": "python",
   "nbconvert_exporter": "python",
   "pygments_lexer": "ipython3",
   "version": "3.7.6"
  }
 },
 "nbformat": 4,
 "nbformat_minor": 4
}
