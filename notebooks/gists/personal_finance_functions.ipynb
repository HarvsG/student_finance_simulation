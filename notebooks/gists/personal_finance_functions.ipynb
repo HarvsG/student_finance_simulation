{
 "cells": [
  {
   "cell_type": "code",
   "execution_count": 8,
   "metadata": {},
   "outputs": [
    {
     "name": "stdout",
     "output_type": "stream",
     "text": [
      "Your net salary after Income Tax, National Insurance and Student Finance contributions is: \n"
     ]
    },
    {
     "data": {
      "text/plain": [
       "35350.28"
      ]
     },
     "execution_count": 8,
     "metadata": {},
     "output_type": "execute_result"
    }
   ],
   "source": [
    "def calcTaxPA(grossSalaryPA):\n",
    "    '''calculates tax paid per year based on \n",
    "    UK tax bands'''\n",
    "    taxFreeAllowance = 12500\n",
    "    if grossSalaryPA <= taxFreeAllowance:\n",
    "        taxPA = 0\n",
    "    elif grossSalaryPA <= 50000:\n",
    "        taxPA = 0.2*(grossSalaryPA - 12500)\n",
    "    elif grossSalaryPA > 50000 and grossSalaryPA <= 150000:\n",
    "        taxPA = (0.4*(grossSalaryPA - 50000)) + (0.2*(50000 - 12500))\n",
    "    elif grossSalaryPA > 150000:\n",
    "        taxPA = (0.45*(grossSalaryPA - 150000)) + (0.4*(150000 - 50000)) + (0.2*(50000 - 12500))\n",
    "    return taxPA\n",
    "\n",
    "\n",
    "def calcNICPA(grossSalaryPA):\n",
    "    '''calculates national insurance contribution per year\n",
    "    based on UK bands which are per week'''\n",
    "    grossSalaryPW = grossSalaryPA/52\n",
    "    if grossSalaryPW >= 962:\n",
    "        NICPW = 0.02*(grossSalaryPW-962) + 0.12*(962-166)\n",
    "    elif grossSalaryPW > 166:\n",
    "        NICPW = 0.12*(grossSalaryPW - 166)\n",
    "    else:\n",
    "        NICPW = 0\n",
    "    return NICPW*52\n",
    "\n",
    "\n",
    "def calcStudentFinPA(grossSalaryPA):\n",
    "    '''calculates student finance per year'''\n",
    "    grossSalaryPM = grossSalaryPA/12\n",
    "    thresholdPM = 2143\n",
    "    if grossSalaryPM > thresholdPM:\n",
    "        StudentFinPM = 0.09*(grossSalaryPM-thresholdPM)\n",
    "    else:\n",
    "        StudentFinPM = 0\n",
    "    return StudentFinPM*12\n",
    "\n",
    "\n",
    "def calcNetSalary(grossSalaryPA):\n",
    "    '''calculates net salary after tax and all other deductions'''\n",
    "    netSalaryPA = grossSalaryPA - calcTaxPA(grossSalaryPA) - calcNICPA(grossSalaryPA) - calcStudentFinPA(grossSalaryPA)\n",
    "    print(\"Your net salary after Income Tax, National Insurance and Student Finance contributions is: \".format(netSalaryPA))\n",
    "    return netSalaryPA\n",
    "\n",
    "calcNetSalary(50000)"
   ]
  }
 ],
 "metadata": {
  "kernelspec": {
   "display_name": "Python 3",
   "language": "python",
   "name": "python3"
  },
  "language_info": {
   "codemirror_mode": {
    "name": "ipython",
    "version": 3
   },
   "file_extension": ".py",
   "mimetype": "text/x-python",
   "name": "python",
   "nbconvert_exporter": "python",
   "pygments_lexer": "ipython3",
   "version": "3.7.6"
  }
 },
 "nbformat": 4,
 "nbformat_minor": 4
}
