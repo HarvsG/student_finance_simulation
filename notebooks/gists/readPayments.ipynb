{
 "cells": [
  {
   "cell_type": "code",
   "execution_count": 8,
   "metadata": {},
   "outputs": [],
   "source": [
    "import os\n",
    "import pandas as pd"
   ]
  },
  {
   "cell_type": "code",
   "execution_count": 9,
   "metadata": {},
   "outputs": [
    {
     "data": {
      "text/plain": [
       "32.129999999999995"
      ]
     },
     "execution_count": 9,
     "metadata": {},
     "output_type": "execute_result"
    }
   ],
   "source": [
    "def readPayments(file_name, date_header=\"PaymentDate\"):\n",
    "    '''\n",
    "    Reads in student finance statement as a pandas dataframe.\n",
    "    Function accepts csv file containing dates and amounts of\n",
    "    payments made from Student Finance as part of the loan.\n",
    "    '''\n",
    "    \n",
    "    dataLoc = os.path.join(os.getcwd(), \"..\\..\", \"data\", file_name)\n",
    "    paymentsData = pd.read_csv(dataLoc, index_col=date_header, parse_dates=True)\n",
    "    \n",
    "    return paymentsData\n",
    "\n",
    "def calcStudentFinPM(grossSalaryPA):\n",
    "    '''\n",
    "    Calculates student finance payments per month deducted\n",
    "    from gross salary based on thresholds published by\n",
    "    Student Finance England. Graduates pay 9% on any gross\n",
    "    salary above a threshold.\n",
    "    '''\n",
    "    grossSalaryPM = grossSalaryPA/12\n",
    "    thresholdPM = 2143\n",
    "    if grossSalaryPM > thresholdPM:\n",
    "        StudentFinPM = 0.09*(grossSalaryPM-thresholdPM)\n",
    "    else:\n",
    "        StudentFinPM = 0\n",
    "    return StudentFinPM\n",
    "\n",
    "# Read in my statement detailing university instalments\n",
    "file_name = \"trimmed_data.csv\"\n",
    "myPayments = readPayments(file_name)\n",
    "myPayments.drop(\"Instalment\", axis = 1, inplace = True)\n",
    "myPayments.head()\n",
    "\n",
    "calcStudentFinPM(30000)"
   ]
  },
  {
   "cell_type": "code",
   "execution_count": null,
   "metadata": {},
   "outputs": [],
   "source": []
  }
 ],
 "metadata": {
  "kernelspec": {
   "display_name": "Python 3",
   "language": "python",
   "name": "python3"
  },
  "language_info": {
   "codemirror_mode": {
    "name": "ipython",
    "version": 3
   },
   "file_extension": ".py",
   "mimetype": "text/x-python",
   "name": "python",
   "nbconvert_exporter": "python",
   "pygments_lexer": "ipython3",
   "version": "3.7.6"
  }
 },
 "nbformat": 4,
 "nbformat_minor": 4
}
